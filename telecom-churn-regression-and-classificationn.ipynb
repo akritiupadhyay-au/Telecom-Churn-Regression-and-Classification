{
 "cells": [
  {
   "cell_type": "code",
   "execution_count": 2,
   "id": "9cb7bb10",
   "metadata": {
    "execution": {
     "iopub.execute_input": "2022-12-20T09:55:47.781238Z",
     "iopub.status.busy": "2022-12-20T09:55:47.780827Z",
     "iopub.status.idle": "2022-12-20T09:55:48.742761Z",
     "shell.execute_reply": "2022-12-20T09:55:48.742081Z"
    },
    "papermill": {
     "duration": 0.973214,
     "end_time": "2022-12-20T09:55:48.744912",
     "exception": false,
     "start_time": "2022-12-20T09:55:47.771698",
     "status": "completed"
    },
    "tags": []
   },
   "outputs": [],
   "source": [
    "import numpy as np\n",
    "import pandas as pd\n",
    "import matplotlib.pyplot as plt\n",
    "import seaborn as sns"
   ]
  },
  {
   "cell_type": "code",
   "execution_count": 3,
   "id": "a3fce1d3",
   "metadata": {
    "execution": {
     "iopub.execute_input": "2022-12-20T09:55:48.762329Z",
     "iopub.status.busy": "2022-12-20T09:55:48.761977Z",
     "iopub.status.idle": "2022-12-20T09:55:48.832155Z",
     "shell.execute_reply": "2022-12-20T09:55:48.831543Z"
    },
    "papermill": {
     "duration": 0.081171,
     "end_time": "2022-12-20T09:55:48.834003",
     "exception": false,
     "start_time": "2022-12-20T09:55:48.752832",
     "status": "completed"
    },
    "tags": []
   },
   "outputs": [
    {
     "data": {
      "text/html": [
       "<div>\n",
       "<style scoped>\n",
       "    .dataframe tbody tr th:only-of-type {\n",
       "        vertical-align: middle;\n",
       "    }\n",
       "\n",
       "    .dataframe tbody tr th {\n",
       "        vertical-align: top;\n",
       "    }\n",
       "\n",
       "    .dataframe thead th {\n",
       "        text-align: right;\n",
       "    }\n",
       "</style>\n",
       "<table border=\"1\" class=\"dataframe\">\n",
       "  <thead>\n",
       "    <tr style=\"text-align: right;\">\n",
       "      <th></th>\n",
       "      <th>customerID</th>\n",
       "      <th>gender</th>\n",
       "      <th>SeniorCitizen</th>\n",
       "      <th>Partner</th>\n",
       "      <th>Dependents</th>\n",
       "      <th>tenure</th>\n",
       "      <th>PhoneService</th>\n",
       "      <th>MultipleLines</th>\n",
       "      <th>InternetService</th>\n",
       "      <th>OnlineSecurity</th>\n",
       "      <th>...</th>\n",
       "      <th>DeviceProtection</th>\n",
       "      <th>TechSupport</th>\n",
       "      <th>StreamingTV</th>\n",
       "      <th>StreamingMovies</th>\n",
       "      <th>Contract</th>\n",
       "      <th>PaperlessBilling</th>\n",
       "      <th>PaymentMethod</th>\n",
       "      <th>MonthlyCharges</th>\n",
       "      <th>TotalCharges</th>\n",
       "      <th>Churn</th>\n",
       "    </tr>\n",
       "  </thead>\n",
       "  <tbody>\n",
       "    <tr>\n",
       "      <th>0</th>\n",
       "      <td>7590-VHVEG</td>\n",
       "      <td>Female</td>\n",
       "      <td>0</td>\n",
       "      <td>Yes</td>\n",
       "      <td>No</td>\n",
       "      <td>1</td>\n",
       "      <td>No</td>\n",
       "      <td>No phone service</td>\n",
       "      <td>DSL</td>\n",
       "      <td>No</td>\n",
       "      <td>...</td>\n",
       "      <td>No</td>\n",
       "      <td>No</td>\n",
       "      <td>No</td>\n",
       "      <td>No</td>\n",
       "      <td>Month-to-month</td>\n",
       "      <td>Yes</td>\n",
       "      <td>Electronic check</td>\n",
       "      <td>29.85</td>\n",
       "      <td>29.85</td>\n",
       "      <td>No</td>\n",
       "    </tr>\n",
       "    <tr>\n",
       "      <th>1</th>\n",
       "      <td>5575-GNVDE</td>\n",
       "      <td>Male</td>\n",
       "      <td>0</td>\n",
       "      <td>No</td>\n",
       "      <td>No</td>\n",
       "      <td>34</td>\n",
       "      <td>Yes</td>\n",
       "      <td>No</td>\n",
       "      <td>DSL</td>\n",
       "      <td>Yes</td>\n",
       "      <td>...</td>\n",
       "      <td>Yes</td>\n",
       "      <td>No</td>\n",
       "      <td>No</td>\n",
       "      <td>No</td>\n",
       "      <td>One year</td>\n",
       "      <td>No</td>\n",
       "      <td>Mailed check</td>\n",
       "      <td>56.95</td>\n",
       "      <td>1889.5</td>\n",
       "      <td>No</td>\n",
       "    </tr>\n",
       "    <tr>\n",
       "      <th>2</th>\n",
       "      <td>3668-QPYBK</td>\n",
       "      <td>Male</td>\n",
       "      <td>0</td>\n",
       "      <td>No</td>\n",
       "      <td>No</td>\n",
       "      <td>2</td>\n",
       "      <td>Yes</td>\n",
       "      <td>No</td>\n",
       "      <td>DSL</td>\n",
       "      <td>Yes</td>\n",
       "      <td>...</td>\n",
       "      <td>No</td>\n",
       "      <td>No</td>\n",
       "      <td>No</td>\n",
       "      <td>No</td>\n",
       "      <td>Month-to-month</td>\n",
       "      <td>Yes</td>\n",
       "      <td>Mailed check</td>\n",
       "      <td>53.85</td>\n",
       "      <td>108.15</td>\n",
       "      <td>Yes</td>\n",
       "    </tr>\n",
       "    <tr>\n",
       "      <th>3</th>\n",
       "      <td>7795-CFOCW</td>\n",
       "      <td>Male</td>\n",
       "      <td>0</td>\n",
       "      <td>No</td>\n",
       "      <td>No</td>\n",
       "      <td>45</td>\n",
       "      <td>No</td>\n",
       "      <td>No phone service</td>\n",
       "      <td>DSL</td>\n",
       "      <td>Yes</td>\n",
       "      <td>...</td>\n",
       "      <td>Yes</td>\n",
       "      <td>Yes</td>\n",
       "      <td>No</td>\n",
       "      <td>No</td>\n",
       "      <td>One year</td>\n",
       "      <td>No</td>\n",
       "      <td>Bank transfer (automatic)</td>\n",
       "      <td>42.30</td>\n",
       "      <td>1840.75</td>\n",
       "      <td>No</td>\n",
       "    </tr>\n",
       "    <tr>\n",
       "      <th>4</th>\n",
       "      <td>9237-HQITU</td>\n",
       "      <td>Female</td>\n",
       "      <td>0</td>\n",
       "      <td>No</td>\n",
       "      <td>No</td>\n",
       "      <td>2</td>\n",
       "      <td>Yes</td>\n",
       "      <td>No</td>\n",
       "      <td>Fiber optic</td>\n",
       "      <td>No</td>\n",
       "      <td>...</td>\n",
       "      <td>No</td>\n",
       "      <td>No</td>\n",
       "      <td>No</td>\n",
       "      <td>No</td>\n",
       "      <td>Month-to-month</td>\n",
       "      <td>Yes</td>\n",
       "      <td>Electronic check</td>\n",
       "      <td>70.70</td>\n",
       "      <td>151.65</td>\n",
       "      <td>Yes</td>\n",
       "    </tr>\n",
       "  </tbody>\n",
       "</table>\n",
       "<p>5 rows × 21 columns</p>\n",
       "</div>"
      ],
      "text/plain": [
       "   customerID  gender  SeniorCitizen Partner Dependents  tenure PhoneService  \\\n",
       "0  7590-VHVEG  Female              0     Yes         No       1           No   \n",
       "1  5575-GNVDE    Male              0      No         No      34          Yes   \n",
       "2  3668-QPYBK    Male              0      No         No       2          Yes   \n",
       "3  7795-CFOCW    Male              0      No         No      45           No   \n",
       "4  9237-HQITU  Female              0      No         No       2          Yes   \n",
       "\n",
       "      MultipleLines InternetService OnlineSecurity  ... DeviceProtection  \\\n",
       "0  No phone service             DSL             No  ...               No   \n",
       "1                No             DSL            Yes  ...              Yes   \n",
       "2                No             DSL            Yes  ...               No   \n",
       "3  No phone service             DSL            Yes  ...              Yes   \n",
       "4                No     Fiber optic             No  ...               No   \n",
       "\n",
       "  TechSupport StreamingTV StreamingMovies        Contract PaperlessBilling  \\\n",
       "0          No          No              No  Month-to-month              Yes   \n",
       "1          No          No              No        One year               No   \n",
       "2          No          No              No  Month-to-month              Yes   \n",
       "3         Yes          No              No        One year               No   \n",
       "4          No          No              No  Month-to-month              Yes   \n",
       "\n",
       "               PaymentMethod MonthlyCharges  TotalCharges Churn  \n",
       "0           Electronic check          29.85         29.85    No  \n",
       "1               Mailed check          56.95        1889.5    No  \n",
       "2               Mailed check          53.85        108.15   Yes  \n",
       "3  Bank transfer (automatic)          42.30       1840.75    No  \n",
       "4           Electronic check          70.70        151.65   Yes  \n",
       "\n",
       "[5 rows x 21 columns]"
      ]
     },
     "execution_count": 3,
     "metadata": {},
     "output_type": "execute_result"
    }
   ],
   "source": [
    "customer = pd.read_csv('/kaggle/input/telecom-dataset/telco.csv')\n",
    "customer.head()"
   ]
  },
  {
   "cell_type": "code",
   "execution_count": 4,
   "id": "6487ebb1",
   "metadata": {
    "execution": {
     "iopub.execute_input": "2022-12-20T09:55:48.852755Z",
     "iopub.status.busy": "2022-12-20T09:55:48.851051Z",
     "iopub.status.idle": "2022-12-20T09:55:48.862127Z",
     "shell.execute_reply": "2022-12-20T09:55:48.861363Z"
    },
    "papermill": {
     "duration": 0.022294,
     "end_time": "2022-12-20T09:55:48.864342",
     "exception": false,
     "start_time": "2022-12-20T09:55:48.842048",
     "status": "completed"
    },
    "tags": []
   },
   "outputs": [
    {
     "data": {
      "text/plain": [
       "0    No\n",
       "1    No\n",
       "2    No\n",
       "3    No\n",
       "4    No\n",
       "Name: Dependents, dtype: object"
      ]
     },
     "execution_count": 4,
     "metadata": {},
     "output_type": "execute_result"
    }
   ],
   "source": [
    "customer_5 = customer.iloc[:,4]\n",
    "customer_5.head()"
   ]
  },
  {
   "cell_type": "code",
   "execution_count": 5,
   "id": "32ec95a6",
   "metadata": {
    "execution": {
     "iopub.execute_input": "2022-12-20T09:55:48.884765Z",
     "iopub.status.busy": "2022-12-20T09:55:48.884226Z",
     "iopub.status.idle": "2022-12-20T09:55:48.890186Z",
     "shell.execute_reply": "2022-12-20T09:55:48.889619Z"
    },
    "papermill": {
     "duration": 0.017512,
     "end_time": "2022-12-20T09:55:48.891809",
     "exception": false,
     "start_time": "2022-12-20T09:55:48.874297",
     "status": "completed"
    },
    "tags": []
   },
   "outputs": [
    {
     "data": {
      "text/plain": [
       "0    No\n",
       "1    No\n",
       "2    No\n",
       "3    No\n",
       "4    No\n",
       "Name: StreamingMovies, dtype: object"
      ]
     },
     "execution_count": 5,
     "metadata": {},
     "output_type": "execute_result"
    }
   ],
   "source": [
    "customer_15 = customer.iloc[:,14]\n",
    "customer_15.head()"
   ]
  },
  {
   "cell_type": "code",
   "execution_count": 6,
   "id": "3025af9d",
   "metadata": {
    "execution": {
     "iopub.execute_input": "2022-12-20T09:55:48.911364Z",
     "iopub.status.busy": "2022-12-20T09:55:48.910800Z",
     "iopub.status.idle": "2022-12-20T09:55:48.916087Z",
     "shell.execute_reply": "2022-12-20T09:55:48.915518Z"
    },
    "papermill": {
     "duration": 0.016938,
     "end_time": "2022-12-20T09:55:48.917734",
     "exception": false,
     "start_time": "2022-12-20T09:55:48.900796",
     "status": "completed"
    },
    "tags": []
   },
   "outputs": [
    {
     "data": {
      "text/plain": [
       "Index(['customerID', 'gender', 'SeniorCitizen', 'Partner', 'Dependents',\n",
       "       'tenure', 'PhoneService', 'MultipleLines', 'InternetService',\n",
       "       'OnlineSecurity', 'OnlineBackup', 'DeviceProtection', 'TechSupport',\n",
       "       'StreamingTV', 'StreamingMovies', 'Contract', 'PaperlessBilling',\n",
       "       'PaymentMethod', 'MonthlyCharges', 'TotalCharges', 'Churn'],\n",
       "      dtype='object')"
      ]
     },
     "execution_count": 6,
     "metadata": {},
     "output_type": "execute_result"
    }
   ],
   "source": [
    "customer.columns"
   ]
  },
  {
   "cell_type": "markdown",
   "id": "c8ff197e",
   "metadata": {
    "papermill": {
     "duration": 0.007966,
     "end_time": "2022-12-20T09:55:48.934255",
     "exception": false,
     "start_time": "2022-12-20T09:55:48.926289",
     "status": "completed"
    },
    "tags": []
   },
   "source": [
    "**Data Manipulation**"
   ]
  },
  {
   "cell_type": "code",
   "execution_count": 7,
   "id": "61bb93ee",
   "metadata": {
    "execution": {
     "iopub.execute_input": "2022-12-20T09:55:48.952406Z",
     "iopub.status.busy": "2022-12-20T09:55:48.951851Z",
     "iopub.status.idle": "2022-12-20T09:55:48.962223Z",
     "shell.execute_reply": "2022-12-20T09:55:48.961069Z"
    },
    "papermill": {
     "duration": 0.022264,
     "end_time": "2022-12-20T09:55:48.964652",
     "exception": false,
     "start_time": "2022-12-20T09:55:48.942388",
     "status": "completed"
    },
    "tags": []
   },
   "outputs": [],
   "source": [
    "senior_male_electronic = customer[(customer['gender']=='Male') & (customer['SeniorCitizen']==1)\n",
    "                                  & (customer['PaymentMethod']=='Electronic check')]"
   ]
  },
  {
   "cell_type": "code",
   "execution_count": 8,
   "id": "2162464e",
   "metadata": {
    "execution": {
     "iopub.execute_input": "2022-12-20T09:55:48.984464Z",
     "iopub.status.busy": "2022-12-20T09:55:48.984127Z",
     "iopub.status.idle": "2022-12-20T09:55:49.007393Z",
     "shell.execute_reply": "2022-12-20T09:55:49.006559Z"
    },
    "papermill": {
     "duration": 0.035501,
     "end_time": "2022-12-20T09:55:49.009378",
     "exception": false,
     "start_time": "2022-12-20T09:55:48.973877",
     "status": "completed"
    },
    "tags": []
   },
   "outputs": [
    {
     "data": {
      "text/html": [
       "<div>\n",
       "<style scoped>\n",
       "    .dataframe tbody tr th:only-of-type {\n",
       "        vertical-align: middle;\n",
       "    }\n",
       "\n",
       "    .dataframe tbody tr th {\n",
       "        vertical-align: top;\n",
       "    }\n",
       "\n",
       "    .dataframe thead th {\n",
       "        text-align: right;\n",
       "    }\n",
       "</style>\n",
       "<table border=\"1\" class=\"dataframe\">\n",
       "  <thead>\n",
       "    <tr style=\"text-align: right;\">\n",
       "      <th></th>\n",
       "      <th>customerID</th>\n",
       "      <th>gender</th>\n",
       "      <th>SeniorCitizen</th>\n",
       "      <th>Partner</th>\n",
       "      <th>Dependents</th>\n",
       "      <th>tenure</th>\n",
       "      <th>PhoneService</th>\n",
       "      <th>MultipleLines</th>\n",
       "      <th>InternetService</th>\n",
       "      <th>OnlineSecurity</th>\n",
       "      <th>...</th>\n",
       "      <th>DeviceProtection</th>\n",
       "      <th>TechSupport</th>\n",
       "      <th>StreamingTV</th>\n",
       "      <th>StreamingMovies</th>\n",
       "      <th>Contract</th>\n",
       "      <th>PaperlessBilling</th>\n",
       "      <th>PaymentMethod</th>\n",
       "      <th>MonthlyCharges</th>\n",
       "      <th>TotalCharges</th>\n",
       "      <th>Churn</th>\n",
       "    </tr>\n",
       "  </thead>\n",
       "  <tbody>\n",
       "    <tr>\n",
       "      <th>20</th>\n",
       "      <td>8779-QRDMV</td>\n",
       "      <td>Male</td>\n",
       "      <td>1</td>\n",
       "      <td>No</td>\n",
       "      <td>No</td>\n",
       "      <td>1</td>\n",
       "      <td>No</td>\n",
       "      <td>No phone service</td>\n",
       "      <td>DSL</td>\n",
       "      <td>No</td>\n",
       "      <td>...</td>\n",
       "      <td>Yes</td>\n",
       "      <td>No</td>\n",
       "      <td>No</td>\n",
       "      <td>Yes</td>\n",
       "      <td>Month-to-month</td>\n",
       "      <td>Yes</td>\n",
       "      <td>Electronic check</td>\n",
       "      <td>39.65</td>\n",
       "      <td>39.65</td>\n",
       "      <td>Yes</td>\n",
       "    </tr>\n",
       "    <tr>\n",
       "      <th>55</th>\n",
       "      <td>1658-BYGOY</td>\n",
       "      <td>Male</td>\n",
       "      <td>1</td>\n",
       "      <td>No</td>\n",
       "      <td>No</td>\n",
       "      <td>18</td>\n",
       "      <td>Yes</td>\n",
       "      <td>Yes</td>\n",
       "      <td>Fiber optic</td>\n",
       "      <td>No</td>\n",
       "      <td>...</td>\n",
       "      <td>No</td>\n",
       "      <td>No</td>\n",
       "      <td>Yes</td>\n",
       "      <td>Yes</td>\n",
       "      <td>Month-to-month</td>\n",
       "      <td>Yes</td>\n",
       "      <td>Electronic check</td>\n",
       "      <td>95.45</td>\n",
       "      <td>1752.55</td>\n",
       "      <td>Yes</td>\n",
       "    </tr>\n",
       "    <tr>\n",
       "      <th>57</th>\n",
       "      <td>5067-XJQFU</td>\n",
       "      <td>Male</td>\n",
       "      <td>1</td>\n",
       "      <td>Yes</td>\n",
       "      <td>Yes</td>\n",
       "      <td>66</td>\n",
       "      <td>Yes</td>\n",
       "      <td>Yes</td>\n",
       "      <td>Fiber optic</td>\n",
       "      <td>No</td>\n",
       "      <td>...</td>\n",
       "      <td>Yes</td>\n",
       "      <td>Yes</td>\n",
       "      <td>Yes</td>\n",
       "      <td>Yes</td>\n",
       "      <td>One year</td>\n",
       "      <td>Yes</td>\n",
       "      <td>Electronic check</td>\n",
       "      <td>108.45</td>\n",
       "      <td>7076.35</td>\n",
       "      <td>No</td>\n",
       "    </tr>\n",
       "    <tr>\n",
       "      <th>78</th>\n",
       "      <td>0191-ZHSKZ</td>\n",
       "      <td>Male</td>\n",
       "      <td>1</td>\n",
       "      <td>No</td>\n",
       "      <td>No</td>\n",
       "      <td>30</td>\n",
       "      <td>Yes</td>\n",
       "      <td>No</td>\n",
       "      <td>DSL</td>\n",
       "      <td>Yes</td>\n",
       "      <td>...</td>\n",
       "      <td>No</td>\n",
       "      <td>No</td>\n",
       "      <td>Yes</td>\n",
       "      <td>Yes</td>\n",
       "      <td>Month-to-month</td>\n",
       "      <td>Yes</td>\n",
       "      <td>Electronic check</td>\n",
       "      <td>74.75</td>\n",
       "      <td>2111.3</td>\n",
       "      <td>No</td>\n",
       "    </tr>\n",
       "    <tr>\n",
       "      <th>91</th>\n",
       "      <td>2424-WVHPL</td>\n",
       "      <td>Male</td>\n",
       "      <td>1</td>\n",
       "      <td>No</td>\n",
       "      <td>No</td>\n",
       "      <td>1</td>\n",
       "      <td>Yes</td>\n",
       "      <td>No</td>\n",
       "      <td>Fiber optic</td>\n",
       "      <td>No</td>\n",
       "      <td>...</td>\n",
       "      <td>No</td>\n",
       "      <td>Yes</td>\n",
       "      <td>No</td>\n",
       "      <td>No</td>\n",
       "      <td>Month-to-month</td>\n",
       "      <td>No</td>\n",
       "      <td>Electronic check</td>\n",
       "      <td>74.70</td>\n",
       "      <td>74.7</td>\n",
       "      <td>No</td>\n",
       "    </tr>\n",
       "  </tbody>\n",
       "</table>\n",
       "<p>5 rows × 21 columns</p>\n",
       "</div>"
      ],
      "text/plain": [
       "    customerID gender  SeniorCitizen Partner Dependents  tenure PhoneService  \\\n",
       "20  8779-QRDMV   Male              1      No         No       1           No   \n",
       "55  1658-BYGOY   Male              1      No         No      18          Yes   \n",
       "57  5067-XJQFU   Male              1     Yes        Yes      66          Yes   \n",
       "78  0191-ZHSKZ   Male              1      No         No      30          Yes   \n",
       "91  2424-WVHPL   Male              1      No         No       1          Yes   \n",
       "\n",
       "       MultipleLines InternetService OnlineSecurity  ... DeviceProtection  \\\n",
       "20  No phone service             DSL             No  ...              Yes   \n",
       "55               Yes     Fiber optic             No  ...               No   \n",
       "57               Yes     Fiber optic             No  ...              Yes   \n",
       "78                No             DSL            Yes  ...               No   \n",
       "91                No     Fiber optic             No  ...               No   \n",
       "\n",
       "   TechSupport StreamingTV StreamingMovies        Contract PaperlessBilling  \\\n",
       "20          No          No             Yes  Month-to-month              Yes   \n",
       "55          No         Yes             Yes  Month-to-month              Yes   \n",
       "57         Yes         Yes             Yes        One year              Yes   \n",
       "78          No         Yes             Yes  Month-to-month              Yes   \n",
       "91         Yes          No              No  Month-to-month               No   \n",
       "\n",
       "       PaymentMethod MonthlyCharges  TotalCharges Churn  \n",
       "20  Electronic check          39.65         39.65   Yes  \n",
       "55  Electronic check          95.45       1752.55   Yes  \n",
       "57  Electronic check         108.45       7076.35    No  \n",
       "78  Electronic check          74.75        2111.3    No  \n",
       "91  Electronic check          74.70          74.7    No  \n",
       "\n",
       "[5 rows x 21 columns]"
      ]
     },
     "execution_count": 8,
     "metadata": {},
     "output_type": "execute_result"
    }
   ],
   "source": [
    "senior_male_electronic.head()"
   ]
  },
  {
   "cell_type": "code",
   "execution_count": 9,
   "id": "fb789434",
   "metadata": {
    "execution": {
     "iopub.execute_input": "2022-12-20T09:55:49.027690Z",
     "iopub.status.busy": "2022-12-20T09:55:49.027346Z",
     "iopub.status.idle": "2022-12-20T09:55:49.052108Z",
     "shell.execute_reply": "2022-12-20T09:55:49.051249Z"
    },
    "papermill": {
     "duration": 0.035701,
     "end_time": "2022-12-20T09:55:49.053785",
     "exception": false,
     "start_time": "2022-12-20T09:55:49.018084",
     "status": "completed"
    },
    "tags": []
   },
   "outputs": [
    {
     "data": {
      "text/html": [
       "<div>\n",
       "<style scoped>\n",
       "    .dataframe tbody tr th:only-of-type {\n",
       "        vertical-align: middle;\n",
       "    }\n",
       "\n",
       "    .dataframe tbody tr th {\n",
       "        vertical-align: top;\n",
       "    }\n",
       "\n",
       "    .dataframe thead th {\n",
       "        text-align: right;\n",
       "    }\n",
       "</style>\n",
       "<table border=\"1\" class=\"dataframe\">\n",
       "  <thead>\n",
       "    <tr style=\"text-align: right;\">\n",
       "      <th></th>\n",
       "      <th>customerID</th>\n",
       "      <th>gender</th>\n",
       "      <th>SeniorCitizen</th>\n",
       "      <th>Partner</th>\n",
       "      <th>Dependents</th>\n",
       "      <th>tenure</th>\n",
       "      <th>PhoneService</th>\n",
       "      <th>MultipleLines</th>\n",
       "      <th>InternetService</th>\n",
       "      <th>OnlineSecurity</th>\n",
       "      <th>...</th>\n",
       "      <th>DeviceProtection</th>\n",
       "      <th>TechSupport</th>\n",
       "      <th>StreamingTV</th>\n",
       "      <th>StreamingMovies</th>\n",
       "      <th>Contract</th>\n",
       "      <th>PaperlessBilling</th>\n",
       "      <th>PaymentMethod</th>\n",
       "      <th>MonthlyCharges</th>\n",
       "      <th>TotalCharges</th>\n",
       "      <th>Churn</th>\n",
       "    </tr>\n",
       "  </thead>\n",
       "  <tbody>\n",
       "    <tr>\n",
       "      <th>8</th>\n",
       "      <td>7892-POOKP</td>\n",
       "      <td>Female</td>\n",
       "      <td>0</td>\n",
       "      <td>Yes</td>\n",
       "      <td>No</td>\n",
       "      <td>28</td>\n",
       "      <td>Yes</td>\n",
       "      <td>Yes</td>\n",
       "      <td>Fiber optic</td>\n",
       "      <td>No</td>\n",
       "      <td>...</td>\n",
       "      <td>Yes</td>\n",
       "      <td>Yes</td>\n",
       "      <td>Yes</td>\n",
       "      <td>Yes</td>\n",
       "      <td>Month-to-month</td>\n",
       "      <td>Yes</td>\n",
       "      <td>Electronic check</td>\n",
       "      <td>104.80</td>\n",
       "      <td>3046.05</td>\n",
       "      <td>Yes</td>\n",
       "    </tr>\n",
       "    <tr>\n",
       "      <th>12</th>\n",
       "      <td>8091-TTVAX</td>\n",
       "      <td>Male</td>\n",
       "      <td>0</td>\n",
       "      <td>Yes</td>\n",
       "      <td>No</td>\n",
       "      <td>58</td>\n",
       "      <td>Yes</td>\n",
       "      <td>Yes</td>\n",
       "      <td>Fiber optic</td>\n",
       "      <td>No</td>\n",
       "      <td>...</td>\n",
       "      <td>Yes</td>\n",
       "      <td>No</td>\n",
       "      <td>Yes</td>\n",
       "      <td>Yes</td>\n",
       "      <td>One year</td>\n",
       "      <td>No</td>\n",
       "      <td>Credit card (automatic)</td>\n",
       "      <td>100.35</td>\n",
       "      <td>5681.1</td>\n",
       "      <td>No</td>\n",
       "    </tr>\n",
       "    <tr>\n",
       "      <th>13</th>\n",
       "      <td>0280-XJGEX</td>\n",
       "      <td>Male</td>\n",
       "      <td>0</td>\n",
       "      <td>No</td>\n",
       "      <td>No</td>\n",
       "      <td>49</td>\n",
       "      <td>Yes</td>\n",
       "      <td>Yes</td>\n",
       "      <td>Fiber optic</td>\n",
       "      <td>No</td>\n",
       "      <td>...</td>\n",
       "      <td>Yes</td>\n",
       "      <td>No</td>\n",
       "      <td>Yes</td>\n",
       "      <td>Yes</td>\n",
       "      <td>Month-to-month</td>\n",
       "      <td>Yes</td>\n",
       "      <td>Bank transfer (automatic)</td>\n",
       "      <td>103.70</td>\n",
       "      <td>5036.3</td>\n",
       "      <td>Yes</td>\n",
       "    </tr>\n",
       "    <tr>\n",
       "      <th>14</th>\n",
       "      <td>5129-JLPIS</td>\n",
       "      <td>Male</td>\n",
       "      <td>0</td>\n",
       "      <td>No</td>\n",
       "      <td>No</td>\n",
       "      <td>25</td>\n",
       "      <td>Yes</td>\n",
       "      <td>No</td>\n",
       "      <td>Fiber optic</td>\n",
       "      <td>Yes</td>\n",
       "      <td>...</td>\n",
       "      <td>Yes</td>\n",
       "      <td>Yes</td>\n",
       "      <td>Yes</td>\n",
       "      <td>Yes</td>\n",
       "      <td>Month-to-month</td>\n",
       "      <td>Yes</td>\n",
       "      <td>Electronic check</td>\n",
       "      <td>105.50</td>\n",
       "      <td>2686.05</td>\n",
       "      <td>No</td>\n",
       "    </tr>\n",
       "    <tr>\n",
       "      <th>15</th>\n",
       "      <td>3655-SNQYZ</td>\n",
       "      <td>Female</td>\n",
       "      <td>0</td>\n",
       "      <td>Yes</td>\n",
       "      <td>Yes</td>\n",
       "      <td>69</td>\n",
       "      <td>Yes</td>\n",
       "      <td>Yes</td>\n",
       "      <td>Fiber optic</td>\n",
       "      <td>Yes</td>\n",
       "      <td>...</td>\n",
       "      <td>Yes</td>\n",
       "      <td>Yes</td>\n",
       "      <td>Yes</td>\n",
       "      <td>Yes</td>\n",
       "      <td>Two year</td>\n",
       "      <td>No</td>\n",
       "      <td>Credit card (automatic)</td>\n",
       "      <td>113.25</td>\n",
       "      <td>7895.15</td>\n",
       "      <td>No</td>\n",
       "    </tr>\n",
       "  </tbody>\n",
       "</table>\n",
       "<p>5 rows × 21 columns</p>\n",
       "</div>"
      ],
      "text/plain": [
       "    customerID  gender  SeniorCitizen Partner Dependents  tenure PhoneService  \\\n",
       "8   7892-POOKP  Female              0     Yes         No      28          Yes   \n",
       "12  8091-TTVAX    Male              0     Yes         No      58          Yes   \n",
       "13  0280-XJGEX    Male              0      No         No      49          Yes   \n",
       "14  5129-JLPIS    Male              0      No         No      25          Yes   \n",
       "15  3655-SNQYZ  Female              0     Yes        Yes      69          Yes   \n",
       "\n",
       "   MultipleLines InternetService OnlineSecurity  ... DeviceProtection  \\\n",
       "8            Yes     Fiber optic             No  ...              Yes   \n",
       "12           Yes     Fiber optic             No  ...              Yes   \n",
       "13           Yes     Fiber optic             No  ...              Yes   \n",
       "14            No     Fiber optic            Yes  ...              Yes   \n",
       "15           Yes     Fiber optic            Yes  ...              Yes   \n",
       "\n",
       "   TechSupport StreamingTV StreamingMovies        Contract PaperlessBilling  \\\n",
       "8          Yes         Yes             Yes  Month-to-month              Yes   \n",
       "12          No         Yes             Yes        One year               No   \n",
       "13          No         Yes             Yes  Month-to-month              Yes   \n",
       "14         Yes         Yes             Yes  Month-to-month              Yes   \n",
       "15         Yes         Yes             Yes        Two year               No   \n",
       "\n",
       "                PaymentMethod MonthlyCharges  TotalCharges Churn  \n",
       "8            Electronic check         104.80       3046.05   Yes  \n",
       "12    Credit card (automatic)         100.35        5681.1    No  \n",
       "13  Bank transfer (automatic)         103.70        5036.3   Yes  \n",
       "14           Electronic check         105.50       2686.05    No  \n",
       "15    Credit card (automatic)         113.25       7895.15    No  \n",
       "\n",
       "[5 rows x 21 columns]"
      ]
     },
     "execution_count": 9,
     "metadata": {},
     "output_type": "execute_result"
    }
   ],
   "source": [
    "customer_total_tenure = customer[(customer['tenure']> 70)| (customer['MonthlyCharges']>100)]\n",
    "customer_total_tenure.head()"
   ]
  },
  {
   "cell_type": "code",
   "execution_count": 10,
   "id": "e81d15cb",
   "metadata": {
    "execution": {
     "iopub.execute_input": "2022-12-20T09:55:49.073711Z",
     "iopub.status.busy": "2022-12-20T09:55:49.072840Z",
     "iopub.status.idle": "2022-12-20T09:55:49.099039Z",
     "shell.execute_reply": "2022-12-20T09:55:49.097979Z"
    },
    "papermill": {
     "duration": 0.038379,
     "end_time": "2022-12-20T09:55:49.101328",
     "exception": false,
     "start_time": "2022-12-20T09:55:49.062949",
     "status": "completed"
    },
    "tags": []
   },
   "outputs": [
    {
     "data": {
      "text/html": [
       "<div>\n",
       "<style scoped>\n",
       "    .dataframe tbody tr th:only-of-type {\n",
       "        vertical-align: middle;\n",
       "    }\n",
       "\n",
       "    .dataframe tbody tr th {\n",
       "        vertical-align: top;\n",
       "    }\n",
       "\n",
       "    .dataframe thead th {\n",
       "        text-align: right;\n",
       "    }\n",
       "</style>\n",
       "<table border=\"1\" class=\"dataframe\">\n",
       "  <thead>\n",
       "    <tr style=\"text-align: right;\">\n",
       "      <th></th>\n",
       "      <th>customerID</th>\n",
       "      <th>gender</th>\n",
       "      <th>SeniorCitizen</th>\n",
       "      <th>Partner</th>\n",
       "      <th>Dependents</th>\n",
       "      <th>tenure</th>\n",
       "      <th>PhoneService</th>\n",
       "      <th>MultipleLines</th>\n",
       "      <th>InternetService</th>\n",
       "      <th>OnlineSecurity</th>\n",
       "      <th>...</th>\n",
       "      <th>DeviceProtection</th>\n",
       "      <th>TechSupport</th>\n",
       "      <th>StreamingTV</th>\n",
       "      <th>StreamingMovies</th>\n",
       "      <th>Contract</th>\n",
       "      <th>PaperlessBilling</th>\n",
       "      <th>PaymentMethod</th>\n",
       "      <th>MonthlyCharges</th>\n",
       "      <th>TotalCharges</th>\n",
       "      <th>Churn</th>\n",
       "    </tr>\n",
       "  </thead>\n",
       "  <tbody>\n",
       "    <tr>\n",
       "      <th>268</th>\n",
       "      <td>6323-AYBRX</td>\n",
       "      <td>Male</td>\n",
       "      <td>0</td>\n",
       "      <td>No</td>\n",
       "      <td>No</td>\n",
       "      <td>59</td>\n",
       "      <td>Yes</td>\n",
       "      <td>No</td>\n",
       "      <td>No</td>\n",
       "      <td>No internet service</td>\n",
       "      <td>...</td>\n",
       "      <td>No internet service</td>\n",
       "      <td>No internet service</td>\n",
       "      <td>No internet service</td>\n",
       "      <td>No internet service</td>\n",
       "      <td>Two year</td>\n",
       "      <td>No</td>\n",
       "      <td>Mailed check</td>\n",
       "      <td>19.35</td>\n",
       "      <td>1099.6</td>\n",
       "      <td>Yes</td>\n",
       "    </tr>\n",
       "    <tr>\n",
       "      <th>5947</th>\n",
       "      <td>7951-QKZPL</td>\n",
       "      <td>Female</td>\n",
       "      <td>0</td>\n",
       "      <td>Yes</td>\n",
       "      <td>Yes</td>\n",
       "      <td>33</td>\n",
       "      <td>Yes</td>\n",
       "      <td>Yes</td>\n",
       "      <td>No</td>\n",
       "      <td>No internet service</td>\n",
       "      <td>...</td>\n",
       "      <td>No internet service</td>\n",
       "      <td>No internet service</td>\n",
       "      <td>No internet service</td>\n",
       "      <td>No internet service</td>\n",
       "      <td>Two year</td>\n",
       "      <td>Yes</td>\n",
       "      <td>Mailed check</td>\n",
       "      <td>24.50</td>\n",
       "      <td>740.3</td>\n",
       "      <td>Yes</td>\n",
       "    </tr>\n",
       "    <tr>\n",
       "      <th>6680</th>\n",
       "      <td>9412-ARGBX</td>\n",
       "      <td>Female</td>\n",
       "      <td>0</td>\n",
       "      <td>No</td>\n",
       "      <td>Yes</td>\n",
       "      <td>48</td>\n",
       "      <td>Yes</td>\n",
       "      <td>No</td>\n",
       "      <td>Fiber optic</td>\n",
       "      <td>No</td>\n",
       "      <td>...</td>\n",
       "      <td>Yes</td>\n",
       "      <td>Yes</td>\n",
       "      <td>Yes</td>\n",
       "      <td>No</td>\n",
       "      <td>Two year</td>\n",
       "      <td>Yes</td>\n",
       "      <td>Mailed check</td>\n",
       "      <td>95.50</td>\n",
       "      <td>4627.85</td>\n",
       "      <td>Yes</td>\n",
       "    </tr>\n",
       "  </tbody>\n",
       "</table>\n",
       "<p>3 rows × 21 columns</p>\n",
       "</div>"
      ],
      "text/plain": [
       "      customerID  gender  SeniorCitizen Partner Dependents  tenure  \\\n",
       "268   6323-AYBRX    Male              0      No         No      59   \n",
       "5947  7951-QKZPL  Female              0     Yes        Yes      33   \n",
       "6680  9412-ARGBX  Female              0      No        Yes      48   \n",
       "\n",
       "     PhoneService MultipleLines InternetService       OnlineSecurity  ...  \\\n",
       "268           Yes            No              No  No internet service  ...   \n",
       "5947          Yes           Yes              No  No internet service  ...   \n",
       "6680          Yes            No     Fiber optic                   No  ...   \n",
       "\n",
       "         DeviceProtection          TechSupport          StreamingTV  \\\n",
       "268   No internet service  No internet service  No internet service   \n",
       "5947  No internet service  No internet service  No internet service   \n",
       "6680                  Yes                  Yes                  Yes   \n",
       "\n",
       "          StreamingMovies  Contract PaperlessBilling PaymentMethod  \\\n",
       "268   No internet service  Two year               No  Mailed check   \n",
       "5947  No internet service  Two year              Yes  Mailed check   \n",
       "6680                   No  Two year              Yes  Mailed check   \n",
       "\n",
       "     MonthlyCharges  TotalCharges Churn  \n",
       "268           19.35        1099.6   Yes  \n",
       "5947          24.50         740.3   Yes  \n",
       "6680          95.50       4627.85   Yes  \n",
       "\n",
       "[3 rows x 21 columns]"
      ]
     },
     "execution_count": 10,
     "metadata": {},
     "output_type": "execute_result"
    }
   ],
   "source": [
    "two_mail_yes = customer[(customer['Contract'] == 'Two year') & (customer['PaymentMethod']=='Mailed check') & (customer['Churn']=='Yes')]\n",
    "two_mail_yes.head()"
   ]
  },
  {
   "cell_type": "code",
   "execution_count": 11,
   "id": "92cd6777",
   "metadata": {
    "execution": {
     "iopub.execute_input": "2022-12-20T09:55:49.122119Z",
     "iopub.status.busy": "2022-12-20T09:55:49.121233Z",
     "iopub.status.idle": "2022-12-20T09:55:49.128470Z",
     "shell.execute_reply": "2022-12-20T09:55:49.127820Z"
    },
    "papermill": {
     "duration": 0.019167,
     "end_time": "2022-12-20T09:55:49.130145",
     "exception": false,
     "start_time": "2022-12-20T09:55:49.110978",
     "status": "completed"
    },
    "tags": []
   },
   "outputs": [
    {
     "data": {
      "text/plain": [
       "(333, 21)"
      ]
     },
     "execution_count": 11,
     "metadata": {},
     "output_type": "execute_result"
    }
   ],
   "source": [
    "customer_333 = customer.sample(333)\n",
    "customer_333.shape"
   ]
  },
  {
   "cell_type": "code",
   "execution_count": 12,
   "id": "bc7de27d",
   "metadata": {
    "execution": {
     "iopub.execute_input": "2022-12-20T09:55:49.151222Z",
     "iopub.status.busy": "2022-12-20T09:55:49.150611Z",
     "iopub.status.idle": "2022-12-20T09:55:49.160722Z",
     "shell.execute_reply": "2022-12-20T09:55:49.159720Z"
    },
    "papermill": {
     "duration": 0.02334,
     "end_time": "2022-12-20T09:55:49.162954",
     "exception": false,
     "start_time": "2022-12-20T09:55:49.139614",
     "status": "completed"
    },
    "tags": []
   },
   "outputs": [
    {
     "data": {
      "text/plain": [
       "No     5174\n",
       "Yes    1869\n",
       "Name: Churn, dtype: int64"
      ]
     },
     "execution_count": 12,
     "metadata": {},
     "output_type": "execute_result"
    }
   ],
   "source": [
    "customer['Churn'].value_counts()"
   ]
  },
  {
   "cell_type": "markdown",
   "id": "23791074",
   "metadata": {
    "papermill": {
     "duration": 0.00975,
     "end_time": "2022-12-20T09:55:49.182288",
     "exception": false,
     "start_time": "2022-12-20T09:55:49.172538",
     "status": "completed"
    },
    "tags": []
   },
   "source": [
    "**Data Visualization**"
   ]
  },
  {
   "cell_type": "code",
   "execution_count": 13,
   "id": "d5bf52f3",
   "metadata": {
    "execution": {
     "iopub.execute_input": "2022-12-20T09:55:49.202746Z",
     "iopub.status.busy": "2022-12-20T09:55:49.202406Z",
     "iopub.status.idle": "2022-12-20T09:55:59.079267Z",
     "shell.execute_reply": "2022-12-20T09:55:59.078399Z"
    },
    "papermill": {
     "duration": 9.889588,
     "end_time": "2022-12-20T09:55:59.081579",
     "exception": false,
     "start_time": "2022-12-20T09:55:49.191991",
     "status": "completed"
    },
    "tags": []
   },
   "outputs": [
    {
     "data": {
      "image/png": "[encoded data removed]",
      "text/plain": [
       "<Figure size 432x288 with 1 Axes>"
      ]
     },
     "metadata": {
      "needs_background": "light"
     },
     "output_type": "display_data"
    }
   ],
   "source": [
    "x=customer['InternetService']\n",
    "y=customer['InternetService'].count()\n",
    "plt.bar(x,y,color='orange')\n",
    "plt.xlabel('Categories of Internet Service')\n",
    "plt.ylabel('Count of Categories')\n",
    "plt.title('Distribution of Internet Service')\n",
    "plt.show()"
   ]
  },
  {
   "cell_type": "code",
   "execution_count": 14,
   "id": "f44678b8",
   "metadata": {
    "execution": {
     "iopub.execute_input": "2022-12-20T09:55:59.103427Z",
     "iopub.status.busy": "2022-12-20T09:55:59.103029Z",
     "iopub.status.idle": "2022-12-20T09:55:59.269993Z",
     "shell.execute_reply": "2022-12-20T09:55:59.268985Z"
    },
    "papermill": {
     "duration": 0.180174,
     "end_time": "2022-12-20T09:55:59.271863",
     "exception": false,
     "start_time": "2022-12-20T09:55:59.091689",
     "status": "completed"
    },
    "tags": []
   },
   "outputs": [
    {
     "data": {
      "image/png": "[encoded data removed]",
      "text/plain": [
       "<Figure size 432x288 with 1 Axes>"
      ]
     },
     "metadata": {
      "needs_background": "light"
     },
     "output_type": "display_data"
    }
   ],
   "source": [
    "plt.hist(customer['tenure'],bins = 30, color = 'green')\n",
    "plt.title('Distribution of tenure')\n",
    "plt.show()"
   ]
  },
  {
   "cell_type": "code",
   "execution_count": 15,
   "id": "0ec06c53",
   "metadata": {
    "execution": {
     "iopub.execute_input": "2022-12-20T09:55:59.293883Z",
     "iopub.status.busy": "2022-12-20T09:55:59.293287Z",
     "iopub.status.idle": "2022-12-20T09:55:59.459800Z",
     "shell.execute_reply": "2022-12-20T09:55:59.458904Z"
    },
    "papermill": {
     "duration": 0.179482,
     "end_time": "2022-12-20T09:55:59.461565",
     "exception": false,
     "start_time": "2022-12-20T09:55:59.282083",
     "status": "completed"
    },
    "tags": []
   },
   "outputs": [
    {
     "data": {
      "image/png": "[encoded data removed]",
      "text/plain": [
       "<Figure size 432x288 with 1 Axes>"
      ]
     },
     "metadata": {
      "needs_background": "light"
     },
     "output_type": "display_data"
    }
   ],
   "source": [
    "import matplotlib\n",
    "plt.scatter(customer['tenure'],customer['MonthlyCharges'],color = 'brown')\n",
    "plt.xlabel('Tenure of Customer')\n",
    "plt.ylabel('Monthly Charges of customer')\n",
    "plt.title('Tenure vs Monthly Charges')\n",
    "plt.show()"
   ]
  },
  {
   "cell_type": "code",
   "execution_count": 16,
   "id": "c430cb33",
   "metadata": {
    "execution": {
     "iopub.execute_input": "2022-12-20T09:55:59.483787Z",
     "iopub.status.busy": "2022-12-20T09:55:59.483199Z",
     "iopub.status.idle": "2022-12-20T09:55:59.621893Z",
     "shell.execute_reply": "2022-12-20T09:55:59.621179Z"
    },
    "papermill": {
     "duration": 0.151983,
     "end_time": "2022-12-20T09:55:59.623864",
     "exception": false,
     "start_time": "2022-12-20T09:55:59.471881",
     "status": "completed"
    },
    "tags": []
   },
   "outputs": [
    {
     "data": {
      "image/png": "[encoded data removed]",
      "text/plain": [
       "<Figure size 432x288 with 1 Axes>"
      ]
     },
     "metadata": {
      "needs_background": "light"
     },
     "output_type": "display_data"
    }
   ],
   "source": [
    "sns.boxplot(x=customer['Contract'],y= customer['tenure'])\n",
    "plt.show()"
   ]
  },
  {
   "cell_type": "markdown",
   "id": "07817d17",
   "metadata": {
    "papermill": {
     "duration": 0.011671,
     "end_time": "2022-12-20T09:55:59.649008",
     "exception": false,
     "start_time": "2022-12-20T09:55:59.637337",
     "status": "completed"
    },
    "tags": []
   },
   "source": [
    "**Linear Regression**"
   ]
  },
  {
   "cell_type": "code",
   "execution_count": 17,
   "id": "fa7bde70",
   "metadata": {
    "execution": {
     "iopub.execute_input": "2022-12-20T09:55:59.671164Z",
     "iopub.status.busy": "2022-12-20T09:55:59.670676Z",
     "iopub.status.idle": "2022-12-20T09:55:59.920736Z",
     "shell.execute_reply": "2022-12-20T09:55:59.919571Z"
    },
    "papermill": {
     "duration": 0.264039,
     "end_time": "2022-12-20T09:55:59.923099",
     "exception": false,
     "start_time": "2022-12-20T09:55:59.659060",
     "status": "completed"
    },
    "tags": []
   },
   "outputs": [],
   "source": [
    "x = customer[['tenure']]\n",
    "y = customer[['MonthlyCharges']]\n",
    "from sklearn.model_selection import train_test_split\n",
    "from sklearn.linear_model import LinearRegression\n",
    "\n",
    "x_train,x_test,y_train,y_test = train_test_split(x,y,test_size= 0.3)"
   ]
  },
  {
   "cell_type": "code",
   "execution_count": 18,
   "id": "db363889",
   "metadata": {
    "execution": {
     "iopub.execute_input": "2022-12-20T09:55:59.945941Z",
     "iopub.status.busy": "2022-12-20T09:55:59.945599Z",
     "iopub.status.idle": "2022-12-20T09:55:59.968047Z",
     "shell.execute_reply": "2022-12-20T09:55:59.966893Z"
    },
    "papermill": {
     "duration": 0.037222,
     "end_time": "2022-12-20T09:55:59.970750",
     "exception": false,
     "start_time": "2022-12-20T09:55:59.933528",
     "status": "completed"
    },
    "tags": []
   },
   "outputs": [],
   "source": [
    "model = LinearRegression()\n",
    "model.fit(x_train,y_train)\n",
    "y_pred = model.predict(x_test)"
   ]
  },
  {
   "cell_type": "code",
   "execution_count": 19,
   "id": "6dd9af08",
   "metadata": {
    "execution": {
     "iopub.execute_input": "2022-12-20T09:55:59.993268Z",
     "iopub.status.busy": "2022-12-20T09:55:59.992911Z",
     "iopub.status.idle": "2022-12-20T09:56:00.002205Z",
     "shell.execute_reply": "2022-12-20T09:56:00.001314Z"
    },
    "papermill": {
     "duration": 0.022552,
     "end_time": "2022-12-20T09:56:00.004035",
     "exception": false,
     "start_time": "2022-12-20T09:55:59.981483",
     "status": "completed"
    },
    "tags": []
   },
   "outputs": [
    {
     "data": {
      "text/plain": [
       "29.090427175071415"
      ]
     },
     "execution_count": 19,
     "metadata": {},
     "output_type": "execute_result"
    }
   ],
   "source": [
    "from sklearn.metrics import mean_squared_error\n",
    "error = np.sqrt(mean_squared_error(y_test,y_pred))\n",
    "error"
   ]
  },
  {
   "cell_type": "markdown",
   "id": "8d841b4a",
   "metadata": {
    "papermill": {
     "duration": 0.009784,
     "end_time": "2022-12-20T09:56:00.023941",
     "exception": false,
     "start_time": "2022-12-20T09:56:00.014157",
     "status": "completed"
    },
    "tags": []
   },
   "source": [
    "**Logistic Regression**"
   ]
  },
  {
   "cell_type": "code",
   "execution_count": 20,
   "id": "093ffe3c",
   "metadata": {
    "execution": {
     "iopub.execute_input": "2022-12-20T09:56:00.045673Z",
     "iopub.status.busy": "2022-12-20T09:56:00.045330Z",
     "iopub.status.idle": "2022-12-20T09:56:00.051852Z",
     "shell.execute_reply": "2022-12-20T09:56:00.050717Z"
    },
    "papermill": {
     "duration": 0.020148,
     "end_time": "2022-12-20T09:56:00.054120",
     "exception": false,
     "start_time": "2022-12-20T09:56:00.033972",
     "status": "completed"
    },
    "tags": []
   },
   "outputs": [],
   "source": [
    "x = customer[['MonthlyCharges']]\n",
    "y = customer[['Churn']]"
   ]
  },
  {
   "cell_type": "code",
   "execution_count": 21,
   "id": "90abc890",
   "metadata": {
    "execution": {
     "iopub.execute_input": "2022-12-20T09:56:00.076903Z",
     "iopub.status.busy": "2022-12-20T09:56:00.076553Z",
     "iopub.status.idle": "2022-12-20T09:56:00.083301Z",
     "shell.execute_reply": "2022-12-20T09:56:00.082222Z"
    },
    "papermill": {
     "duration": 0.020746,
     "end_time": "2022-12-20T09:56:00.085613",
     "exception": false,
     "start_time": "2022-12-20T09:56:00.064867",
     "status": "completed"
    },
    "tags": []
   },
   "outputs": [],
   "source": [
    "x_train,x_test,y_train,y_test = train_test_split(x,y,test_size= 0.35)"
   ]
  },
  {
   "cell_type": "code",
   "execution_count": 22,
   "id": "5ff6978c",
   "metadata": {
    "execution": {
     "iopub.execute_input": "2022-12-20T09:56:00.108156Z",
     "iopub.status.busy": "2022-12-20T09:56:00.107831Z",
     "iopub.status.idle": "2022-12-20T09:56:00.130102Z",
     "shell.execute_reply": "2022-12-20T09:56:00.128770Z"
    },
    "papermill": {
     "duration": 0.036121,
     "end_time": "2022-12-20T09:56:00.132320",
     "exception": false,
     "start_time": "2022-12-20T09:56:00.096199",
     "status": "completed"
    },
    "tags": []
   },
   "outputs": [
    {
     "name": "stderr",
     "output_type": "stream",
     "text": [
      "/opt/conda/lib/python3.7/site-packages/sklearn/utils/validation.py:993: DataConversionWarning: A column-vector y was passed when a 1d array was expected. Please change the shape of y to (n_samples, ), for example using ravel().\n",
      "  y = column_or_1d(y, warn=True)\n"
     ]
    }
   ],
   "source": [
    "from sklearn.linear_model import LogisticRegression\n",
    "logModel = LogisticRegression()\n",
    "logModel.fit(x_train,y_train)\n",
    "y_pred = logModel.predict(x_test)"
   ]
  },
  {
   "cell_type": "code",
   "execution_count": 23,
   "id": "97d457b2",
   "metadata": {
    "execution": {
     "iopub.execute_input": "2022-12-20T09:56:00.155267Z",
     "iopub.status.busy": "2022-12-20T09:56:00.154907Z",
     "iopub.status.idle": "2022-12-20T09:56:00.169733Z",
     "shell.execute_reply": "2022-12-20T09:56:00.168794Z"
    },
    "papermill": {
     "duration": 0.028076,
     "end_time": "2022-12-20T09:56:00.171600",
     "exception": false,
     "start_time": "2022-12-20T09:56:00.143524",
     "status": "completed"
    },
    "tags": []
   },
   "outputs": [
    {
     "data": {
      "text/plain": [
       "array([[1792,    0],\n",
       "       [ 674,    0]])"
      ]
     },
     "execution_count": 23,
     "metadata": {},
     "output_type": "execute_result"
    }
   ],
   "source": [
    "from sklearn.metrics import confusion_matrix,accuracy_score\n",
    "confusion_matrix(y_test,y_pred)"
   ]
  },
  {
   "cell_type": "code",
   "execution_count": 24,
   "id": "7586cd32",
   "metadata": {
    "execution": {
     "iopub.execute_input": "2022-12-20T09:56:00.194328Z",
     "iopub.status.busy": "2022-12-20T09:56:00.193967Z",
     "iopub.status.idle": "2022-12-20T09:56:00.203691Z",
     "shell.execute_reply": "2022-12-20T09:56:00.202764Z"
    },
    "papermill": {
     "duration": 0.023018,
     "end_time": "2022-12-20T09:56:00.205422",
     "exception": false,
     "start_time": "2022-12-20T09:56:00.182404",
     "status": "completed"
    },
    "tags": []
   },
   "outputs": [
    {
     "data": {
      "text/plain": [
       "0.7266828872668288"
      ]
     },
     "execution_count": 24,
     "metadata": {},
     "output_type": "execute_result"
    }
   ],
   "source": [
    "accuracy_score(y_test,y_pred)"
   ]
  },
  {
   "cell_type": "markdown",
   "id": "f94b5089",
   "metadata": {
    "papermill": {
     "duration": 0.010398,
     "end_time": "2022-12-20T09:56:00.226680",
     "exception": false,
     "start_time": "2022-12-20T09:56:00.216282",
     "status": "completed"
    },
    "tags": []
   },
   "source": [
    "**Decision Tree**"
   ]
  },
  {
   "cell_type": "code",
   "execution_count": 25,
   "id": "ff689985",
   "metadata": {
    "execution": {
     "iopub.execute_input": "2022-12-20T09:56:00.250528Z",
     "iopub.status.busy": "2022-12-20T09:56:00.250201Z",
     "iopub.status.idle": "2022-12-20T09:56:00.255651Z",
     "shell.execute_reply": "2022-12-20T09:56:00.254747Z"
    },
    "papermill": {
     "duration": 0.019336,
     "end_time": "2022-12-20T09:56:00.257419",
     "exception": false,
     "start_time": "2022-12-20T09:56:00.238083",
     "status": "completed"
    },
    "tags": []
   },
   "outputs": [],
   "source": [
    "x = customer[['tenure']]\n",
    "y = customer[['Churn']]"
   ]
  },
  {
   "cell_type": "code",
   "execution_count": 26,
   "id": "ada20aaa",
   "metadata": {
    "execution": {
     "iopub.execute_input": "2022-12-20T09:56:00.280196Z",
     "iopub.status.busy": "2022-12-20T09:56:00.279878Z",
     "iopub.status.idle": "2022-12-20T09:56:00.288125Z",
     "shell.execute_reply": "2022-12-20T09:56:00.287385Z"
    },
    "papermill": {
     "duration": 0.021771,
     "end_time": "2022-12-20T09:56:00.289914",
     "exception": false,
     "start_time": "2022-12-20T09:56:00.268143",
     "status": "completed"
    },
    "tags": []
   },
   "outputs": [],
   "source": [
    "x_train,x_test,y_train,y_test = train_test_split(x,y, test_size= 0.2)"
   ]
  },
  {
   "cell_type": "code",
   "execution_count": 27,
   "id": "6c87d43f",
   "metadata": {
    "execution": {
     "iopub.execute_input": "2022-12-20T09:56:00.313283Z",
     "iopub.status.busy": "2022-12-20T09:56:00.312940Z",
     "iopub.status.idle": "2022-12-20T09:56:00.398279Z",
     "shell.execute_reply": "2022-12-20T09:56:00.397390Z"
    },
    "papermill": {
     "duration": 0.099739,
     "end_time": "2022-12-20T09:56:00.400585",
     "exception": false,
     "start_time": "2022-12-20T09:56:00.300846",
     "status": "completed"
    },
    "tags": []
   },
   "outputs": [],
   "source": [
    "from sklearn.tree import DecisionTreeClassifier\n",
    "treeClassifier = DecisionTreeClassifier()\n",
    "treeClassifier.fit(x_train,y_train)\n",
    "y_pred = treeClassifier.predict(x_test)"
   ]
  },
  {
   "cell_type": "code",
   "execution_count": 28,
   "id": "6889337e",
   "metadata": {
    "execution": {
     "iopub.execute_input": "2022-12-20T09:56:00.423540Z",
     "iopub.status.busy": "2022-12-20T09:56:00.423136Z",
     "iopub.status.idle": "2022-12-20T09:56:00.434225Z",
     "shell.execute_reply": "2022-12-20T09:56:00.433389Z"
    },
    "papermill": {
     "duration": 0.024482,
     "end_time": "2022-12-20T09:56:00.435966",
     "exception": false,
     "start_time": "2022-12-20T09:56:00.411484",
     "status": "completed"
    },
    "tags": []
   },
   "outputs": [
    {
     "data": {
      "text/plain": [
       "array([[966,  76],\n",
       "       [262, 105]])"
      ]
     },
     "execution_count": 28,
     "metadata": {},
     "output_type": "execute_result"
    }
   ],
   "source": [
    "confusion_matrix(y_test,y_pred)"
   ]
  },
  {
   "cell_type": "code",
   "execution_count": 29,
   "id": "d53f4810",
   "metadata": {
    "execution": {
     "iopub.execute_input": "2022-12-20T09:56:00.459077Z",
     "iopub.status.busy": "2022-12-20T09:56:00.458677Z",
     "iopub.status.idle": "2022-12-20T09:56:00.467146Z",
     "shell.execute_reply": "2022-12-20T09:56:00.466331Z"
    },
    "papermill": {
     "duration": 0.022122,
     "end_time": "2022-12-20T09:56:00.468871",
     "exception": false,
     "start_time": "2022-12-20T09:56:00.446749",
     "status": "completed"
    },
    "tags": []
   },
   "outputs": [
    {
     "data": {
      "text/plain": [
       "0.7601135557132718"
      ]
     },
     "execution_count": 29,
     "metadata": {},
     "output_type": "execute_result"
    }
   ],
   "source": [
    "accuracy_score(y_test,y_pred)"
   ]
  },
  {
   "cell_type": "markdown",
   "id": "a110561c",
   "metadata": {
    "papermill": {
     "duration": 0.010751,
     "end_time": "2022-12-20T09:56:00.490536",
     "exception": false,
     "start_time": "2022-12-20T09:56:00.479785",
     "status": "completed"
    },
    "tags": []
   },
   "source": [
    "**Random Forest**"
   ]
  },
  {
   "cell_type": "code",
   "execution_count": 30,
   "id": "86fa24ad",
   "metadata": {
    "execution": {
     "iopub.execute_input": "2022-12-20T09:56:00.514860Z",
     "iopub.status.busy": "2022-12-20T09:56:00.514458Z",
     "iopub.status.idle": "2022-12-20T09:56:00.520746Z",
     "shell.execute_reply": "2022-12-20T09:56:00.519693Z"
    },
    "papermill": {
     "duration": 0.021158,
     "end_time": "2022-12-20T09:56:00.522637",
     "exception": false,
     "start_time": "2022-12-20T09:56:00.501479",
     "status": "completed"
    },
    "tags": []
   },
   "outputs": [],
   "source": [
    "x = customer[['tenure','MonthlyCharges']]\n",
    "y = customer[['Churn']]"
   ]
  },
  {
   "cell_type": "code",
   "execution_count": 31,
   "id": "2b2974fe",
   "metadata": {
    "execution": {
     "iopub.execute_input": "2022-12-20T09:56:00.545871Z",
     "iopub.status.busy": "2022-12-20T09:56:00.545528Z",
     "iopub.status.idle": "2022-12-20T09:56:00.552011Z",
     "shell.execute_reply": "2022-12-20T09:56:00.550996Z"
    },
    "papermill": {
     "duration": 0.020084,
     "end_time": "2022-12-20T09:56:00.553751",
     "exception": false,
     "start_time": "2022-12-20T09:56:00.533667",
     "status": "completed"
    },
    "tags": []
   },
   "outputs": [],
   "source": [
    "x_train,x_test,y_train,y_test = train_test_split(x,y,test_size = 0.3)"
   ]
  },
  {
   "cell_type": "code",
   "execution_count": 32,
   "id": "9e2ca35c",
   "metadata": {
    "execution": {
     "iopub.execute_input": "2022-12-20T09:56:00.577118Z",
     "iopub.status.busy": "2022-12-20T09:56:00.576729Z",
     "iopub.status.idle": "2022-12-20T09:56:01.151367Z",
     "shell.execute_reply": "2022-12-20T09:56:01.150041Z"
    },
    "papermill": {
     "duration": 0.589049,
     "end_time": "2022-12-20T09:56:01.153702",
     "exception": false,
     "start_time": "2022-12-20T09:56:00.564653",
     "status": "completed"
    },
    "tags": []
   },
   "outputs": [
    {
     "name": "stderr",
     "output_type": "stream",
     "text": [
      "/opt/conda/lib/python3.7/site-packages/ipykernel_launcher.py:3: DataConversionWarning: A column-vector y was passed when a 1d array was expected. Please change the shape of y to (n_samples,), for example using ravel().\n",
      "  This is separate from the ipykernel package so we can avoid doing imports until\n"
     ]
    }
   ],
   "source": [
    "from sklearn.ensemble import RandomForestClassifier\n",
    "ensembleClassifier = RandomForestClassifier()\n",
    "ensembleClassifier.fit(x_train,y_train)\n",
    "y_pred = ensembleClassifier.predict(x_test)"
   ]
  },
  {
   "cell_type": "code",
   "execution_count": 33,
   "id": "61f46e8b",
   "metadata": {
    "execution": {
     "iopub.execute_input": "2022-12-20T09:56:01.177267Z",
     "iopub.status.busy": "2022-12-20T09:56:01.176420Z",
     "iopub.status.idle": "2022-12-20T09:56:01.189392Z",
     "shell.execute_reply": "2022-12-20T09:56:01.188541Z"
    },
    "papermill": {
     "duration": 0.026593,
     "end_time": "2022-12-20T09:56:01.191323",
     "exception": false,
     "start_time": "2022-12-20T09:56:01.164730",
     "status": "completed"
    },
    "tags": []
   },
   "outputs": [
    {
     "data": {
      "text/plain": [
       "array([[1316,  219],\n",
       "       [ 312,  266]])"
      ]
     },
     "execution_count": 33,
     "metadata": {},
     "output_type": "execute_result"
    }
   ],
   "source": [
    "confusion_matrix(y_test,y_pred)"
   ]
  },
  {
   "cell_type": "code",
   "execution_count": 34,
   "id": "11c40119",
   "metadata": {
    "execution": {
     "iopub.execute_input": "2022-12-20T09:56:01.215143Z",
     "iopub.status.busy": "2022-12-20T09:56:01.214798Z",
     "iopub.status.idle": "2022-12-20T09:56:01.224078Z",
     "shell.execute_reply": "2022-12-20T09:56:01.222979Z"
    },
    "papermill": {
     "duration": 0.024058,
     "end_time": "2022-12-20T09:56:01.226426",
     "exception": false,
     "start_time": "2022-12-20T09:56:01.202368",
     "status": "completed"
    },
    "tags": []
   },
   "outputs": [
    {
     "data": {
      "text/plain": [
       "0.7486985328916232"
      ]
     },
     "execution_count": 34,
     "metadata": {},
     "output_type": "execute_result"
    }
   ],
   "source": [
    "accuracy_score(y_test,y_pred)"
   ]
  }
 ],
 "metadata": {
  "kernelspec": {
   "display_name": "Python 3",
   "language": "python",
   "name": "python3"
  },
  "language_info": {
   "codemirror_mode": {
    "name": "ipython",
    "version": 3
   },
   "file_extension": ".py",
   "mimetype": "text/x-python",
   "name": "python",
   "nbconvert_exporter": "python",
   "pygments_lexer": "ipython3",
   "version": "3.7.12"
  },
  "papermill": {
   "default_parameters": {},
   "duration": 21.740768,
   "end_time": "2022-12-20T09:56:02.459380",
   "environment_variables": {},
   "exception": null,
   "input_path": "__notebook__.ipynb",
   "output_path": "__notebook__.ipynb",
   "parameters": {},
   "start_time": "2022-12-20T09:55:40.718612",
   "version": "2.3.4"
  }
 },
 "nbformat": 4,
 "nbformat_minor": 5
}
